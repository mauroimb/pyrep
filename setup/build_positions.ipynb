{
 "cells": [
  {
   "cell_type": "code",
   "execution_count": 1,
   "metadata": {},
   "outputs": [],
   "source": [
    "import sys\n",
    "sys.path.append('..')\n",
    "sys.path.append('../..')\n",
    "\n",
    "import pandas as pd\n",
    "from IPython.display import display\n",
    "\n",
    "\n",
    "from src.tools import *\n",
    "from src.database import Database\n",
    "from src.accountant import Accountant\n",
    "from src.prices.prices import Price\n",
    "\n",
    "p = Price()\n",
    "price = p.price\n",
    "db = Database('db.db')\n",
    "act = Accountant(db)\n",
    "db1 = Database('db1.db')\n",
    "\n",
    "txs = db1.read('valorized')"
   ]
  },
  {
   "cell_type": "markdown",
   "metadata": {},
   "source": [
    "leviamo le transazioni interne"
   ]
  },
  {
   "cell_type": "code",
   "execution_count": 2,
   "metadata": {},
   "outputs": [],
   "source": [
    "txs = txs[txs['label1']!='internal']"
   ]
  },
  {
   "cell_type": "markdown",
   "metadata": {},
   "source": [
    "elimino a mano le transazioni di token problematici (la cui contabilità va eseguita a parte), se è il caso"
   ]
  },
  {
   "cell_type": "code",
   "execution_count": 3,
   "metadata": {},
   "outputs": [],
   "source": [
    "# def deleteToken(df, token):\n",
    "#     assert token in db.coins(), 'se accade questo, ricontrollare'\n",
    "#     mask = (df['in_iso'] == token) | (df['out_iso']== token) | (df['fee_iso']==token)\n",
    "#     return df[~mask]\n",
    "# txs = deleteToken(txs, 'TOKEN SGRADITO')"
   ]
  },
  {
   "cell_type": "markdown",
   "metadata": {},
   "source": [
    "creo le posizioni aperte a partire dalle transazioni \"valorized\""
   ]
  },
  {
   "cell_type": "code",
   "execution_count": 3,
   "metadata": {},
   "outputs": [],
   "source": [
    "col_open = ['open_id', 'open_t', 'open_amount','open_price','coin', 'amount']\n",
    "col_close = ['close_id', 'close_t', 'close_price', 'close_amount', 'cgain']"
   ]
  },
  {
   "cell_type": "code",
   "execution_count": 4,
   "metadata": {},
   "outputs": [],
   "source": [
    "def open_pos(r):\n",
    "    out = {\n",
    "        'open_id': r['id'],\n",
    "        'open_t':r['timestamp'],\n",
    "        'open_amount':r['in'],\n",
    "        'open_price': r['in_price'],\n",
    "        'coin': r['in_iso'],\n",
    "        'amount':r['in']\n",
    "    }\n",
    "    if r['type']!='trade':\n",
    "        out['open_price'] = 0\n",
    "    return pd.Series(out)"
   ]
  },
  {
   "cell_type": "code",
   "execution_count": 5,
   "metadata": {},
   "outputs": [
    {
     "data": {
      "text/plain": [
       "271"
      ]
     },
     "execution_count": 5,
     "metadata": {},
     "output_type": "execute_result"
    }
   ],
   "source": [
    "pos = txs.apply(open_pos, axis=1)\n",
    "pos=pos[pos['amount'].notna()]\n",
    "pos[col_close] = None\n",
    "len(pos)"
   ]
  },
  {
   "cell_type": "markdown",
   "metadata": {},
   "source": [
    "aggiungo le posizioni che corrispondono ai bilanci del momento iniziale (tutte a costo di carico 0)"
   ]
  },
  {
   "cell_type": "code",
   "execution_count": 6,
   "metadata": {},
   "outputs": [],
   "source": [
    "start_time = '2017-01-01 00:00:00'\n",
    "starting = act.shot(start_time)['global'].to_dict()"
   ]
  },
  {
   "cell_type": "code",
   "execution_count": 7,
   "metadata": {},
   "outputs": [],
   "source": [
    "startt = timeFormat(start_time)\n",
    "lll = []\n",
    "for i, c in enumerate(starting):\n",
    "    lll.append({\n",
    "        'open_id':'start'+str(i),\n",
    "        'open_t': startt,\n",
    "        'open_amount':starting[c],\n",
    "        'open_price':0,\n",
    "        'coin':c,\n",
    "        'amount':starting[c]\n",
    "    })\n",
    "\n",
    "pos = pd.concat([pos, pd.DataFrame(lll)], ignore_index=True)\n",
    "pos.sort_values(by='open_t', inplace=True)"
   ]
  },
  {
   "cell_type": "markdown",
   "metadata": {},
   "source": [
    "aggiungo a mano transazioni specifiche per aggiustare la contabilità ove necessario, per es:\n",
    "- commissioni non contabilizzare\n",
    "- transazioni particolari, specifiche dei recipients\n",
    "  "
   ]
  },
  {
   "cell_type": "code",
   "execution_count": 10,
   "metadata": {},
   "outputs": [],
   "source": [
    "# llll = []\n",
    "# adjust_id = 'adjust'\n",
    "# adjust_time = '9999-99-99 99:99:99'\n",
    "# llll.append({\n",
    "#     'open_t': timeFormat(adjust_time),\n",
    "#     'open_id': adjust_id+str(timeFormat(adjust_time)),\n",
    "#     'open_amount':0.02,\n",
    "#     'open_price':0,\n",
    "#     'coin':'BNB',\n",
    "#     'amount':0.02\n",
    "# })\n",
    "\n",
    "\n",
    "# pos = pd.concat([pos, pd.DataFrame(llll)], ignore_index=True)\n",
    "# pos.sort_values(by='open_t', inplace=True)"
   ]
  },
  {
   "cell_type": "code",
   "execution_count": 8,
   "metadata": {},
   "outputs": [],
   "source": [
    "# un print da attivare solo per il debug\n",
    "verbose = False\n",
    "def stampa(*args):\n",
    "    global verbose\n",
    "    if (verbose): print(*args)"
   ]
  },
  {
   "cell_type": "code",
   "execution_count": 9,
   "metadata": {},
   "outputs": [],
   "source": [
    "def find_open(iso, timestamp):\n",
    "    #stampa('find_open', iso, timestamp)\n",
    "    global pos\n",
    "    mask = (pos['coin']==iso ) & (pos['open_t']<=timestamp) & pos['close_t'].isna() \n",
    "    tmp = pos[mask]\n",
    "    tmp = tmp.sort_values(by='open_t', ascending=False)\n",
    "    if verbose: display(tmp)\n",
    "    return tmp.index[0]"
   ]
  },
  {
   "cell_type": "code",
   "execution_count": 10,
   "metadata": {},
   "outputs": [],
   "source": [
    "threshold = 0.00001 # €\n",
    "\n",
    "def close_pos(id, timestamp, coin, amount, p):\n",
    "    global pos\n",
    "    global verbose\n",
    "    global threshold\n",
    "    \n",
    "    if pd.isna(p) or (p == 0): \n",
    "        #verbose = True\n",
    "        stampa('OCCHIO CHIUSURA A PREZZO ZERO, prezzo:',p)\n",
    "        p = 'unknown'\n",
    "    else:\n",
    "        verbose = False\n",
    "    \n",
    "    # verbose = True if coin == 'MAID' else False\n",
    "\n",
    "    if p != 'unknown' and p*amount < threshold: return 0\n",
    "    \n",
    "     \n",
    "\n",
    "    try:\n",
    "        stampa('########################  close', coin, amount,'(',id,  p, timestamp, ')')\n",
    "        id_open = find_open(coin,timestamp)\n",
    "    except Exception as e:\n",
    "        verbose = True\n",
    "        stampa('EXCEPTION WHILE CLOSING', id, timestamp, coin, amount, p)\n",
    "        id_open = find_open(coin,timestamp)\n",
    "\n",
    "\n",
    "    openpos = pos.loc[id_open].to_dict()\n",
    "    closepos = pos.loc[id_open].to_dict()\n",
    "\n",
    "    #stampa('open position:', openpos)\n",
    "\n",
    "    assert closepos['coin'] == coin\n",
    "\n",
    "    closepos['close_id'] = id\n",
    "    closepos['close_t'] = timestamp\n",
    "    closepos['close_price'] = p\n",
    "\n",
    "    if amount >= openpos['amount']:\n",
    "        close_amount = openpos['amount']\n",
    "    else:\n",
    "        close_amount = amount\n",
    "    \n",
    "    closepos['close_amount'] = close_amount\n",
    "    if p == 'unknown' : closepos['cgain']=p\n",
    "    else: closepos['cgain'] = close_amount * (closepos['close_price']- closepos['open_price'])\n",
    "\n",
    "    stampa('infine:')\n",
    "\n",
    "    if amount >= openpos['amount']:\n",
    "        stampa('chiudi tutta')\n",
    "        rest = amount - openpos['amount']\n",
    "        stampa(closepos)\n",
    "        stampa('rest',rest)\n",
    "        # chiudila tutta e avanza il resto:\n",
    "        pos.loc[id_open] = pd.Series(closepos)\n",
    "\n",
    "        if p == 'unknown': return rest\n",
    "        else:\n",
    "            rest_value = rest * p\n",
    "            return rest if rest_value > threshold else 0\n",
    "        \n",
    "    else:\n",
    "        stampa('lascia aperta')\n",
    "        # chiudine una parte e crea una nuova pos aperta, returns resto 0\n",
    "        pos.loc[id_open] = pd.Series(closepos)\n",
    "\n",
    "        rest = openpos['amount'] - amount\n",
    "        openpos['amount'] = rest\n",
    "\n",
    "        if p != 'unknown': \n",
    "            rest_value = rest*p\n",
    "            stampa('rest', rest_value, 'threshold', threshold)\n",
    "            if rest_value > threshold:\n",
    "                pos = pd.concat([pos, pd.DataFrame([openpos])], ignore_index=True)\n",
    "                stampa('left:', openpos)\n",
    "            else:          \n",
    "                stampa('@@@@@@@@@@@@@@@@@@@@@@@@@@@@@@@@@@@@@@@@@@@@@@@@@@@@@@@@')\n",
    "                stampa('left:', openpos)\n",
    "                stampa('@@@@@@@@@@@@@@@@@@@@@@@@@@@@@@@@@@@@@@@@@@@@@@@@@@@@@@@@')\n",
    "        else:\n",
    "            pos = pd.concat([pos, pd.DataFrame([openpos])], ignore_index=True)\n",
    "            stampa('left:', openpos)\n",
    "\n",
    "    \n",
    "         \n",
    "        stampa('closed:',closepos)\n",
    "        return 0\n"
   ]
  },
  {
   "cell_type": "code",
   "execution_count": 11,
   "metadata": {},
   "outputs": [],
   "source": [
    "alltxs = db1.read('valorized')\n",
    "#alltxs = deleteToken(alltxs, 'TOKEN SGRADITO')\n",
    "\n",
    "for i, r in alltxs.iterrows():\n",
    "    if r['label1'] != 'internal':\n",
    "        if pd.notna(r['out']):\n",
    "            rest = r['out']\n",
    "            while rest>0:\n",
    "                rest =  close_pos(r['id'], r['timestamp'], r['out_iso'], rest, r['out_price'])       \n",
    "    if pd.notna(r['fee']):\n",
    "        rest = r['fee']\n",
    "        while rest>0:\n",
    "            rest = close_pos(r['id'], r['timestamp'], r['fee_iso'],rest, r['fee_price'])\n",
    "\n",
    "    "
   ]
  },
  {
   "cell_type": "code",
   "execution_count": 12,
   "metadata": {},
   "outputs": [],
   "source": [
    "db1.save('positions', pos)"
   ]
  },
  {
   "cell_type": "code",
   "execution_count": null,
   "metadata": {},
   "outputs": [],
   "source": []
  }
 ],
 "metadata": {
  "kernelspec": {
   "display_name": "Python 3",
   "language": "python",
   "name": "python3"
  },
  "language_info": {
   "codemirror_mode": {
    "name": "ipython",
    "version": 3
   },
   "file_extension": ".py",
   "mimetype": "text/x-python",
   "name": "python",
   "nbconvert_exporter": "python",
   "pygments_lexer": "ipython3",
   "version": "3.10.12"
  }
 },
 "nbformat": 4,
 "nbformat_minor": 2
}
