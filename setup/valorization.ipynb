{
 "cells": [
  {
   "cell_type": "code",
   "execution_count": null,
   "metadata": {},
   "outputs": [],
   "source": [
    "import sys\n",
    "sys.path.append('..')\n",
    "sys.path.append('../..')\n",
    "\n",
    "import pandas as pd\n",
    "\n",
    "from src.tools import *\n",
    "from src.database import Database\n",
    "from src.values import Values\n",
    "from src.prices.prices import Price\n",
    "\n",
    "p = Price(delay=20)\n",
    "price = p.price\n",
    "db1 = Database('db1.db')\n",
    "\n",
    "txs = db1.read('txs')"
   ]
  },
  {
   "cell_type": "markdown",
   "metadata": {},
   "source": [
    "I valori di \"in\" e \"out\" di ogni transazione, calcolati in euro, potrebbero essere diversi tra loro perchè i tassi di cambio sono riportati come media giornaliera. \n",
    "Scegliamo di usare un valore solo (quello dell'asset più liquido), affinchè il conto globale delle plusvalenze risulti corretto.\n",
    "\n",
    "Definiamo come \"Value\" di una transazione il valore IN o OUT dell'asset più liquido"
   ]
  },
  {
   "cell_type": "code",
   "execution_count": null,
   "metadata": {},
   "outputs": [],
   "source": [
    "# totalmente discrezionale, inserire in lista gli asset reputati più liquidi, in ordine.\n",
    "# Almeno IN o OUT di ogni transazione devono essere compresi in questa lista\n",
    "\n",
    "isos = ['EUR','USD','USDT','BUSD', 'BTC', 'ETH', 'BNB', 'ALGO', 'DASH']\n",
    "isos.reverse()"
   ]
  },
  {
   "cell_type": "code",
   "execution_count": null,
   "metadata": {},
   "outputs": [],
   "source": [
    "pr = {}\n",
    "for i, x in enumerate(isos):\n",
    "    pr[x]=i\n",
    "def prior_iso(r):  \n",
    "    inn = r['in_iso']\n",
    "    out = r['out_iso']\n",
    "    if inn in pr and out in pr:\n",
    "        return 'in' if pr[inn]>pr[out] else 'out'\n",
    "    elif inn in pr and out not in pr:\n",
    "        return 'in'\n",
    "    elif inn not in pr and out in pr:\n",
    "        return 'out'\n",
    "    else:\n",
    "        raise Exception('what?', r)\n",
    "    \n",
    "def istrade(r):\n",
    "    inn = pd.notna(r['in']) & (r['in'] != 0)\n",
    "    out = pd.notna(r['out']) & (r['out'] != 0)\n",
    "    return True if inn & out else False\n",
    "\n",
    "def noninisos(r):\n",
    "    test1 =( r['in_iso'] in isos) \n",
    "    test2 = (r['out_iso'] in isos) \n",
    "    return ( not test1 ) & (not test2)"
   ]
  },
  {
   "cell_type": "code",
   "execution_count": null,
   "metadata": {},
   "outputs": [],
   "source": [
    "trademask = txs.apply(istrade, axis=1)\n",
    "noninisosmask = txs.apply(noninisos, axis=1)"
   ]
  },
  {
   "cell_type": "markdown",
   "metadata": {},
   "source": [
    "verifichiamo che non esistano trades che non coinvolgano le coin \"notevoli\" di isos"
   ]
  },
  {
   "cell_type": "code",
   "execution_count": null,
   "metadata": {},
   "outputs": [],
   "source": [
    "\n",
    "txs[trademask & noninisosmask] "
   ]
  },
  {
   "cell_type": "code",
   "execution_count": null,
   "metadata": {},
   "outputs": [],
   "source": [
    "txs[~trademask & (txs['type']=='trade')]"
   ]
  },
  {
   "cell_type": "markdown",
   "metadata": {},
   "source": [
    "con trademask verifico che tutti i trades abbiano in & out "
   ]
  },
  {
   "cell_type": "code",
   "execution_count": null,
   "metadata": {},
   "outputs": [],
   "source": [
    "newcol = ['value', 'in_price', 'out_price', 'fee_price']\n",
    "txs[newcol]=[None, None, None, None]"
   ]
  },
  {
   "cell_type": "code",
   "execution_count": null,
   "metadata": {},
   "outputs": [],
   "source": [
    "newcol = txs.columns"
   ]
  },
  {
   "cell_type": "code",
   "execution_count": null,
   "metadata": {},
   "outputs": [],
   "source": [
    "def valorize(r):\n",
    "    #print(r)\n",
    "    t = r['timestamp']\n",
    "    try:\n",
    "        if r['type']=='trade':\n",
    "            prior = prior_iso(r)\n",
    "            if prior == 'in':\n",
    "                p  = price(r['in_iso'], t)\n",
    "                assert pd.notna(p) and (p > 0), 'wrong price output: '+r['in_iso']+' '+ str(t)\n",
    "                v = p * r['in']\n",
    "            elif prior  == 'out':\n",
    "                p  = price(r['out_iso'], t)\n",
    "                assert pd.notna(p) and (p > 0), 'wrong price output: '+r['in_iso']+' '+ str(t)\n",
    "                v = p * r['out']\n",
    "            r['value']= v\n",
    "            r['in_price'] = v / r['in'] if (pd.notna(r['in']) and r['in']!= 0) else 0\n",
    "            r['out_price'] = v /r['out'] if (pd.notna(r['out']) and r['out']!= 0) else 0\n",
    "        else:\n",
    "            if pd.notna(r['in']) and (r['in']>0):\n",
    "                p = price(r['in_iso'], t)\n",
    "                if pd.notna(p) and (p > 0):\n",
    "                    r['in_price'] = p\n",
    "                    r['value'] = p * r['in']\n",
    "                else:\n",
    "                    r['in_price'] = 0\n",
    "                    r['value'] = 0\n",
    "            if pd.notna(r['out']) and (r['out']>0):\n",
    "                p = price(r['out_iso'], t)\n",
    "                if pd.notna(p) and (p > 0):\n",
    "                    r['out_price'] = p\n",
    "                    r['value'] = p * r['out']\n",
    "                else:\n",
    "                    r['out_price'] = None\n",
    "                    r['value'] = None        \n",
    "        if pd.notna(r['fee']) and (r['fee']>0):\n",
    "            fp =  price(r['fee_iso'], t)\n",
    "            if pd.notna(fp) and (fp > 0):\n",
    "                r['fee_price'] = fp\n",
    "            else:\n",
    "                r['fee_price'] = None\n",
    "        return r\n",
    "    except Exception as e:\n",
    "        print(r)\n",
    "        raise e"
   ]
  },
  {
   "cell_type": "markdown",
   "metadata": {},
   "source": [
    "Dopo aver avviato la cella seguente, lasciamolo lavorare e andiamo a preparare un caffè.\n",
    "Può essere conveniente utilizzare il file \"fill\" nella cartella */src/prices* per riempire il db dei prezzi almeno per le valute più utlizzate, perchè un solo errore (rate limit) attualmente fa crashare tutta la procedura.\n",
    "Avendo il tempo si dovrebbe rendere più robusto tutto l'algoritmo.\n"
   ]
  },
  {
   "cell_type": "code",
   "execution_count": null,
   "metadata": {},
   "outputs": [],
   "source": [
    "txs = txs.apply(valorize, axis=1)"
   ]
  },
  {
   "cell_type": "code",
   "execution_count": null,
   "metadata": {},
   "outputs": [],
   "source": [
    "db1.save('valorized', txs)"
   ]
  }
 ],
 "metadata": {
  "kernelspec": {
   "display_name": "Python 3",
   "language": "python",
   "name": "python3"
  },
  "language_info": {
   "codemirror_mode": {
    "name": "ipython",
    "version": 3
   },
   "file_extension": ".py",
   "mimetype": "text/x-python",
   "name": "python",
   "nbconvert_exporter": "python",
   "pygments_lexer": "ipython3",
   "version": "3.10.12"
  }
 },
 "nbformat": 4,
 "nbformat_minor": 2
}
