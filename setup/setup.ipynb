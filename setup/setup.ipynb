{
 "cells": [
  {
   "cell_type": "code",
   "execution_count": 4,
   "metadata": {},
   "outputs": [],
   "source": [
    "import sys\n",
    "sys.path.append('..')\n",
    "import os\n",
    "import json\n",
    "\n",
    "from src.tools import *\n",
    "from src.database import Database\n",
    "from src.accountant import Accountant\n",
    "#from src.values import Values\n",
    "\n",
    "from src.prices.db_prices import Db\n",
    "\n",
    "\n",
    "db = Database('db.db')\n",
    "act = Accountant(db)\n",
    "#values = Values(db)"
   ]
  },
  {
   "cell_type": "markdown",
   "metadata": {},
   "source": [
    "### resettare e riempire il database (se necessario)\n",
    "\n",
    "- cancellare il file `/data/db.db`\n",
    "- usare i notebooks in `/recipients/` per inserire le transazioni"
   ]
  },
  {
   "cell_type": "markdown",
   "metadata": {},
   "source": [
    "### Verifichiamo i bilanci e calcoliamo il bilancio globale (di tutti i recipients)"
   ]
  },
  {
   "cell_type": "code",
   "execution_count": null,
   "metadata": {},
   "outputs": [],
   "source": [
    "act.setup()"
   ]
  },
  {
   "cell_type": "markdown",
   "metadata": {},
   "source": [
    "### aggiorniamo il file coins.json (contiene la lista degli asset di tutti i recipients)"
   ]
  },
  {
   "cell_type": "code",
   "execution_count": 5,
   "metadata": {},
   "outputs": [],
   "source": [
    "coins_path = os.path.join(os.path.abspath('')[:-5],'data', 'coins.json')\n",
    "coins_json = list(set(['EUR','USD']+ db.coins()))\n",
    "with open(coins_path, 'w') as json_file:\n",
    "    json.dump(coins_json, json_file, indent=4)"
   ]
  },
  {
   "cell_type": "markdown",
   "metadata": {},
   "source": [
    "### creazione i database dei prezzi"
   ]
  },
  {
   "cell_type": "code",
   "execution_count": 6,
   "metadata": {},
   "outputs": [],
   "source": [
    "### creazione del database dei prezzi (se non è già presente)\n",
    "prices_db_path = os.path.join(os.path.abspath('')[:-5],'data', 'prices.db')\n",
    "if not os.path.exists(prices_db_path):\n",
    "    print('boh')\n",
    "    db_prices = Db('prices.db')\n",
    "    db_prices.create()\n"
   ]
  },
  {
   "cell_type": "code",
   "execution_count": 8,
   "metadata": {},
   "outputs": [],
   "source": [
    "### creazione del database dei prezzi al primo gennaio, per il calcolo della giacenza (vecchio metodo)\n",
    "\n",
    "try:\n",
    "    pd.read_excel('prices.xlsx', index_col='timestamp')\n",
    "    #se esiste già, non facciamo altro\n",
    "except:\n",
    "    cols = db.coins()\n",
    "    prices_giacenza = pd.DataFrame(columns = ['timestamp','USD', *cols])\n",
    "    pg_path = os.path.join(os.path.abspath('')[:-5],'data', 'prices.xlsx')\n",
    "    prices_giacenza.to_excel(pg_path, index=True, index_label='timestamp')\n"
   ]
  }
 ],
 "metadata": {
  "kernelspec": {
   "display_name": "Python 3",
   "language": "python",
   "name": "python3"
  },
  "language_info": {
   "codemirror_mode": {
    "name": "ipython",
    "version": 3
   },
   "file_extension": ".py",
   "mimetype": "text/x-python",
   "name": "python",
   "nbconvert_exporter": "python",
   "pygments_lexer": "ipython3",
   "version": "3.10.12"
  }
 },
 "nbformat": 4,
 "nbformat_minor": 2
}
