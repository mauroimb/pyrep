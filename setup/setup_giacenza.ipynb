{
 "cells": [
  {
   "cell_type": "code",
   "execution_count": null,
   "metadata": {},
   "outputs": [],
   "source": [
    "import pandas as pd\n",
    "\n",
    "\n",
    "import sys\n",
    "sys.path.append('..')\n",
    "sys.path.append('../src')\n",
    "sys.path.append('../src/prices')\n",
    "\n",
    "from tools import * \n",
    "from database import *\n",
    "from accountant import *\n",
    "\n",
    "#va migliorata la notazione ; )\n",
    "from prices import Price\n",
    "price = Price(delay = 10).price\n",
    "\n",
    "db = Database('db.db')\n"
   ]
  },
  {
   "cell_type": "markdown",
   "metadata": {},
   "source": [
    "creazione del database dei prezzi al primo gennaio (*/data/prezzi.xslx*), per il calcolo della giacenza (vecchio metodo)\n"
   ]
  },
  {
   "cell_type": "code",
   "execution_count": null,
   "metadata": {},
   "outputs": [],
   "source": [
    "### creazione del database dei prezzi al primo gennaio, per il calcolo della giacenza (vecchio metodo)\n",
    "    \n",
    "pg_path = os.path.join(os.path.abspath('')[:-5],'data', 'prices.xlsx')\n",
    "print(pg_path)\n",
    "\n",
    "try:\n",
    "    prices = pd.read_excel(pg_path, index_col='timestamp')\n",
    "    #se esiste già, non facciamo altro\n",
    "except:\n",
    "    cols = db.coins()\n",
    "    interval = map(lambda x: str(x)+'-01-01',range(2014, 2024))\n",
    "    prices = pd.DataFrame(columns = ['USD', *cols], index = interval)\n",
    "    prices.index.name = 'timestamp'\n",
    "   \n",
    "    prices.to_excel(pg_path, index=True, index_label='timestamp')"
   ]
  },
  {
   "cell_type": "code",
   "execution_count": null,
   "metadata": {},
   "outputs": [],
   "source": [
    "prices"
   ]
  },
  {
   "cell_type": "code",
   "execution_count": null,
   "metadata": {},
   "outputs": [],
   "source": [
    "def save(prices):\n",
    "    prices.to_excel(pg_path, index=True, index_label='timestamp')"
   ]
  },
  {
   "cell_type": "code",
   "execution_count": null,
   "metadata": {},
   "outputs": [],
   "source": [
    "def retrievePrices(date):\n",
    "    #delay è per non incorrere nei rate-limits\n",
    "    assert type(date)== str\n",
    "\n",
    "    if not date in prices.index:\n",
    "        raise Exception('!')\n",
    "        \n",
    "    print('start: '+date)\n",
    "\n",
    "\n",
    "    for coin in prices.columns:\n",
    "\n",
    "        if pd.isna(prices.loc[date, coin]):\n",
    "            p = price(coin, date)\n",
    "            prices.loc[date, coin] = p\n",
    "            save(prices)\n",
    "                \n",
    "    save(prices)\n",
    "    print('finished!')\n",
    "    return True"
   ]
  },
  {
   "cell_type": "code",
   "execution_count": null,
   "metadata": {},
   "outputs": [],
   "source": [
    "# riempiamo il database \n",
    "# lasciamolo a lavorare e andiamo a fare un caffè\n",
    "# PS: alzare il delay in Price() se incorrono troppi errori dovuti al rate limit\n",
    "\n",
    "for i in prices.index:\n",
    "    retrievePrices(i)\n"
   ]
  },
  {
   "cell_type": "code",
   "execution_count": null,
   "metadata": {},
   "outputs": [],
   "source": [
    "prices"
   ]
  }
 ],
 "metadata": {
  "kernelspec": {
   "display_name": "Python 3",
   "language": "python",
   "name": "python3"
  },
  "language_info": {
   "codemirror_mode": {
    "name": "ipython",
    "version": 3
   },
   "file_extension": ".py",
   "mimetype": "text/x-python",
   "name": "python",
   "nbconvert_exporter": "python",
   "pygments_lexer": "ipython3",
   "version": "3.10.12"
  }
 },
 "nbformat": 4,
 "nbformat_minor": 2
}
