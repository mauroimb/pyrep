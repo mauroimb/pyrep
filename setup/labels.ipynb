{
 "cells": [
  {
   "cell_type": "code",
   "execution_count": 19,
   "metadata": {},
   "outputs": [],
   "source": [
    "import sys\n",
    "sys.path.append('..')\n",
    "sys.path.append('../..')\n",
    "\n",
    "import pandas as pd\n",
    "\n",
    "\n",
    "from src.tools import *\n",
    "from src.database import Database\n",
    "\n",
    "\n"
   ]
  },
  {
   "cell_type": "markdown",
   "metadata": {},
   "source": [
    "seleziono le transazioni che mi interessa contabilizzare, scegliere momento iniziale e finale"
   ]
  },
  {
   "cell_type": "code",
   "execution_count": null,
   "metadata": {},
   "outputs": [],
   "source": [
    "# scegliere start e stop\n",
    "txs = Database('db.db').txs(start='2017-01-01', stop='2023-01-01').copy()"
   ]
  },
  {
   "cell_type": "markdown",
   "metadata": {},
   "source": [
    "Ricerca delle transazioni contabilizzate due volte, cioè transazioni in uscita da un recipient ed in entrata in un altro (l'IN dell'una è uguale all'OUT dell'altra e viceversa)\n",
    "\n",
    "inserisco una piccola percentuale di tolleranza per includere anche gli errori di calcolo degli exchanges (come commissioni di transazioni non contabilizzate o quant'altro).\n",
    "\n",
    "a queste transazioni vengono assegnati 3 labels:\n",
    "1. label1: 'internal'\n",
    "2. label2: il recipient in cui la tx arriva o da cui proviene\n",
    "3. label3 l'id della transazione speculare"
   ]
  },
  {
   "cell_type": "code",
   "execution_count": 20,
   "metadata": {},
   "outputs": [],
   "source": [
    "txs[['label1', 'label2', 'label3']] = [None, None, None]\n",
    "def label(id0, id1):\n",
    "    txs.loc[id0, 'label1']='internal'\n",
    "    txs.loc[id1, 'label1']='internal'\n",
    "    txs.loc[id0, 'label2']= id1[1]\n",
    "    txs.loc[id1, 'label2']= id0[1]\n",
    "    txs.loc[id0, 'label3']= id1[0]\n",
    "    txs.loc[id1, 'label3']= id0[0]\n",
    "\n",
    "\n",
    "def sim(a,b, tolerance_percent):\n",
    "    if b == 0: return False\n",
    "    if a == 0: return False\n",
    "    return True if abs(a/b -1) <= tolerance_percent else False"
   ]
  },
  {
   "cell_type": "markdown",
   "metadata": {},
   "source": [
    " flagghiamo le tx con id uguale (da electrum a electrum o da eth a eth)"
   ]
  },
  {
   "cell_type": "code",
   "execution_count": 21,
   "metadata": {},
   "outputs": [],
   "source": [
    "\n",
    "ug = txs[txs['type']=='ext'].groupby(level='id')\n",
    "for name, data in ug:\n",
    "    if (len(data)==2):\n",
    "            ids = tuple(data.index)\n",
    "            label(ids[0], ids[1])\n"
   ]
  },
  {
   "cell_type": "markdown",
   "metadata": {},
   "source": [
    "la funzione search restituisce un elenco di coppie (tuple) contenenti gli index delle transazioni da contrassegnare.\n",
    "E stampa quelle che in cui la IN avviene prima dell'OUT, dovuto probabilmente a problemi di fuso orario o a scelte di contabilizzazione dei diversi recipients. Controllarle una per una."
   ]
  },
  {
   "cell_type": "code",
   "execution_count": 22,
   "metadata": {},
   "outputs": [],
   "source": [
    "def search(tolerance_time, tolerance_amount, df):\n",
    "    ext = df[(df['type']=='ext' )| (df['type']=='other')]\n",
    "    ext=ext[ext['label1']!='internal']\n",
    "    \n",
    "    regular = 0\n",
    "    inversion = 0\n",
    "\n",
    "    ids = []\n",
    "    couples = []\n",
    "\n",
    "    for i, r in ext.iterrows():\n",
    "        t = r['timestamp']\n",
    "        mask = (ext['timestamp']>=t ) & (ext['timestamp']<(t+tolerance_time))\n",
    "        EXT = ext[mask]\n",
    "    \n",
    "\n",
    "        for ii, rr in EXT.iterrows():\n",
    "            if i != ii:\n",
    "                if sim(r['in'], rr['out'], tolerance_amount):\n",
    "                   \n",
    "                    inversion += 1\n",
    "                                      \n",
    "                    ids.append(i)\n",
    "                    ids.append(ii)\n",
    "                    couples.append((i, ii))\n",
    "                    \n",
    "                elif sim(r['out'], rr['in'], tolerance_amount):\n",
    "                 \n",
    "                    regular += 1\n",
    "                        \n",
    "                    ids.append(i)\n",
    "                    ids.append(ii)\n",
    "                    couples.append((i, ii))\n",
    "                \n",
    "    print('REGULAR:',regular, 'INVERSION', inversion)\n",
    "    return couples       \n"
   ]
  },
  {
   "cell_type": "markdown",
   "metadata": {},
   "source": [
    "cerchiamo le tx con in e out esattamente uguali (a meno di 1/1000) e flagghiamole"
   ]
  },
  {
   "cell_type": "code",
   "execution_count": 23,
   "metadata": {},
   "outputs": [
    {
     "name": "stdout",
     "output_type": "stream",
     "text": [
      "REGULAR: 0 INVERSION 0\n"
     ]
    }
   ],
   "source": [
    "# tempo tra le transazioni, 5 ore di separazione permesse, perchè spesso i recipients non forniscono\n",
    "# i dati sulla timezone utilizzata.\n",
    "\n",
    "tolerance_time = 5 *60*60*1000\n",
    "tolerance_amount = 0.001\n",
    "ids = search(tolerance_time, tolerance_amount, txs)"
   ]
  },
  {
   "cell_type": "code",
   "execution_count": 24,
   "metadata": {},
   "outputs": [],
   "source": [
    "for id in ids:\n",
    "    rec1 = id[0][1]\n",
    "    rec2 = id[1][1]\n",
    "    if (rec1 != rec2): label(id[0], id[1])\n",
    "    else: print(id)"
   ]
  },
  {
   "cell_type": "markdown",
   "metadata": {},
   "source": [
    "### cerchiamo con un po' di tolleranza in più e controlliamo a mano"
   ]
  },
  {
   "cell_type": "code",
   "execution_count": 25,
   "metadata": {},
   "outputs": [
    {
     "name": "stdout",
     "output_type": "stream",
     "text": [
      "REGULAR: 0 INVERSION 1\n"
     ]
    }
   ],
   "source": [
    "tolerance_time = 5 *60*60*1000 #tempo tra le transazioni, 5 ore di separazione allowed\n",
    "tolerance_amount = 0.01\n",
    "df = txs[txs['label1']!='internal']\n",
    "ids = search(tolerance_time, tolerance_amount, df)"
   ]
  },
  {
   "cell_type": "code",
   "execution_count": 26,
   "metadata": {},
   "outputs": [],
   "source": [
    "def show(ids, i):\n",
    "    cip = txs[(txs.index==ids[i][0]) | (txs.index==ids[i][1])].copy()\n",
    "    return date(cip)\n",
    "def flagi(ids,i):\n",
    "    label(ids[i][0], ids[i][1])"
   ]
  },
  {
   "cell_type": "code",
   "execution_count": 27,
   "metadata": {},
   "outputs": [
    {
     "data": {
      "text/html": [
       "<div>\n",
       "<style scoped>\n",
       "    .dataframe tbody tr th:only-of-type {\n",
       "        vertical-align: middle;\n",
       "    }\n",
       "\n",
       "    .dataframe tbody tr th {\n",
       "        vertical-align: top;\n",
       "    }\n",
       "\n",
       "    .dataframe thead th {\n",
       "        text-align: right;\n",
       "    }\n",
       "</style>\n",
       "<table border=\"1\" class=\"dataframe\">\n",
       "  <thead>\n",
       "    <tr style=\"text-align: right;\">\n",
       "      <th></th>\n",
       "      <th></th>\n",
       "      <th>date</th>\n",
       "      <th>timestamp</th>\n",
       "      <th>type</th>\n",
       "      <th>info</th>\n",
       "      <th>in</th>\n",
       "      <th>in_iso</th>\n",
       "      <th>out</th>\n",
       "      <th>out_iso</th>\n",
       "      <th>fee</th>\n",
       "      <th>fee_iso</th>\n",
       "      <th>label1</th>\n",
       "      <th>label2</th>\n",
       "      <th>label3</th>\n",
       "    </tr>\n",
       "    <tr>\n",
       "      <th>id</th>\n",
       "      <th>recipients</th>\n",
       "      <th></th>\n",
       "      <th></th>\n",
       "      <th></th>\n",
       "      <th></th>\n",
       "      <th></th>\n",
       "      <th></th>\n",
       "      <th></th>\n",
       "      <th></th>\n",
       "      <th></th>\n",
       "      <th></th>\n",
       "      <th></th>\n",
       "      <th></th>\n",
       "      <th></th>\n",
       "    </tr>\n",
       "  </thead>\n",
       "  <tbody>\n",
       "    <tr>\n",
       "      <th>34923105</th>\n",
       "      <th>therocktrading</th>\n",
       "      <td>2019-05-24 07:55:02 UTC</td>\n",
       "      <td>1558684502000</td>\n",
       "      <td>ext</td>\n",
       "      <td>None</td>\n",
       "      <td>201.5</td>\n",
       "      <td>EUR</td>\n",
       "      <td>NaN</td>\n",
       "      <td>None</td>\n",
       "      <td>NaN</td>\n",
       "      <td>None</td>\n",
       "      <td>None</td>\n",
       "      <td>None</td>\n",
       "      <td>None</td>\n",
       "    </tr>\n",
       "    <tr>\n",
       "      <th>33687191</th>\n",
       "      <th>therocktrading</th>\n",
       "      <td>2019-05-24 07:56:48 UTC</td>\n",
       "      <td>1558684608000</td>\n",
       "      <td>ext</td>\n",
       "      <td>IT36Q0200816909000004696350</td>\n",
       "      <td>NaN</td>\n",
       "      <td>None</td>\n",
       "      <td>200.0</td>\n",
       "      <td>EUR</td>\n",
       "      <td>NaN</td>\n",
       "      <td>None</td>\n",
       "      <td>None</td>\n",
       "      <td>None</td>\n",
       "      <td>None</td>\n",
       "    </tr>\n",
       "  </tbody>\n",
       "</table>\n",
       "</div>"
      ],
      "text/plain": [
       "                                            date      timestamp type   \n",
       "id       recipients                                                    \n",
       "34923105 therocktrading  2019-05-24 07:55:02 UTC  1558684502000  ext  \\\n",
       "33687191 therocktrading  2019-05-24 07:56:48 UTC  1558684608000  ext   \n",
       "\n",
       "                                                info     in in_iso    out   \n",
       "id       recipients                                                         \n",
       "34923105 therocktrading                         None  201.5    EUR    NaN  \\\n",
       "33687191 therocktrading  IT36Q0200816909000004696350    NaN   None  200.0   \n",
       "\n",
       "                        out_iso  fee fee_iso label1 label2 label3  \n",
       "id       recipients                                                \n",
       "34923105 therocktrading    None  NaN    None   None   None   None  \n",
       "33687191 therocktrading     EUR  NaN    None   None   None   None  "
      ]
     },
     "execution_count": 27,
     "metadata": {},
     "output_type": "execute_result"
    }
   ],
   "source": [
    "show(ids,0)"
   ]
  },
  {
   "cell_type": "markdown",
   "metadata": {},
   "source": [
    "flaggiamole singolarmente"
   ]
  },
  {
   "cell_type": "code",
   "execution_count": 28,
   "metadata": {},
   "outputs": [],
   "source": [
    "#flagi(ids,0)"
   ]
  },
  {
   "cell_type": "markdown",
   "metadata": {},
   "source": [
    "### salviamo le transazioni flaggate in un nuovo database.\n"
   ]
  },
  {
   "cell_type": "code",
   "execution_count": 29,
   "metadata": {},
   "outputs": [],
   "source": [
    "DB = Database('db1.db')"
   ]
  },
  {
   "cell_type": "code",
   "execution_count": 30,
   "metadata": {},
   "outputs": [],
   "source": [
    "DB.save('txs', txs)"
   ]
  }
 ],
 "metadata": {
  "kernelspec": {
   "display_name": "Python 3",
   "language": "python",
   "name": "python3"
  },
  "language_info": {
   "codemirror_mode": {
    "name": "ipython",
    "version": 3
   },
   "file_extension": ".py",
   "mimetype": "text/x-python",
   "name": "python",
   "nbconvert_exporter": "python",
   "pygments_lexer": "ipython3",
   "version": "3.10.12"
  }
 },
 "nbformat": 4,
 "nbformat_minor": 2
}
