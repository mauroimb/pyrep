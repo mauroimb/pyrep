{
 "cells": [
  {
   "cell_type": "code",
   "execution_count": null,
   "metadata": {},
   "outputs": [],
   "source": [
    "import sys\n",
    "sys.path.append('..')\n",
    "sys.path.append('../..')\n",
    "\n",
    "import pandas as pd\n",
    "\n",
    "from src.tools import *\n",
    "from src.database import Database\n",
    "from src.accountant import Accountant\n",
    "from src.prices.prices import Price\n",
    "from src.positions import Positions\n",
    "\n",
    "pr = Price()\n",
    "price = pr.price\n",
    "db = Database('db.db')\n",
    "act = Accountant(db)\n",
    "db1 = Database('db1.db')\n",
    "\n",
    "p = Positions(db1)\n",
    "\n"
   ]
  },
  {
   "cell_type": "markdown",
   "metadata": {},
   "source": [
    "La libreria `positions` è un elenco di utilities per osservare le posizioni aperte e chiuse e calcolare la somma di minus e plusvalenze"
   ]
  },
  {
   "cell_type": "code",
   "execution_count": null,
   "metadata": {},
   "outputs": [],
   "source": [
    "p2021 = p.closed_between('2021-01-01', '2021-12-31').sort_values(by='close_t', ascending=False)"
   ]
  },
  {
   "cell_type": "code",
   "execution_count": null,
   "metadata": {},
   "outputs": [],
   "source": [
    "p2021.gain"
   ]
  },
  {
   "cell_type": "code",
   "execution_count": null,
   "metadata": {},
   "outputs": [],
   "source": [
    "date(p.show(4))"
   ]
  }
 ],
 "metadata": {
  "kernelspec": {
   "display_name": "Python 3",
   "language": "python",
   "name": "python3"
  },
  "language_info": {
   "codemirror_mode": {
    "name": "ipython",
    "version": 3
   },
   "file_extension": ".py",
   "mimetype": "text/x-python",
   "name": "python",
   "nbconvert_exporter": "python",
   "pygments_lexer": "ipython3",
   "version": "3.10.12"
  }
 },
 "nbformat": 4,
 "nbformat_minor": 2
}
