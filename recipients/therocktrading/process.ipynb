{
 "cells": [
  {
   "cell_type": "code",
   "execution_count": null,
   "metadata": {},
   "outputs": [],
   "source": [
    "import sys\n",
    "\n",
    "sys.path.append('../..')\n",
    "\n",
    "import pandas as pd\n",
    "\n",
    "from src.tools import *\n",
    "from src.database import Database\n"
   ]
  },
  {
   "cell_type": "code",
   "execution_count": null,
   "metadata": {},
   "outputs": [],
   "source": [
    "# lista delle colonne del database delle transazioni\n",
    "columns = Database.txs_column_list\n",
    "columns\n"
   ]
  },
  {
   "cell_type": "markdown",
   "metadata": {},
   "source": [
    "importo le transazioni di `./data/transazioni.xsls` in un Dataframe e le adatto allo standard.\n",
    "Verifico che il formato sia giusto attraverso la funzione `src.arrange`"
   ]
  },
  {
   "cell_type": "code",
   "execution_count": null,
   "metadata": {},
   "outputs": [],
   "source": [
    "timezone = 'UTC'\n",
    "\n",
    "def all(): \n",
    "    df = pd.read_excel('data/transazioni.xlsx').sort_values(by='id')\n",
    "    agg = ['deposito', 'Acquisto valuta', 'dividend_from_shares', 'sold_shares' ]\n",
    "    sub = ['prelievo', 'Vendita valuta', 'bought_shares','return_lent_currency']\n",
    "    comm = ['pagamento commissione']\n",
    "    \n",
    "    txs = pd.DataFrame()\n",
    "    txs['id']=df['id']\n",
    "    txs['timestamp'] = (df['date_operation'].apply(str).apply(lambda x : x[:10]+' ' ) \\\n",
    "                    + df['time_operation'].apply(str)\\\n",
    "                        ).apply(lambda x :timeFormat(x, input_timezone=timezone))\n",
    "    \n",
    "    for i, r in df.iterrows():\n",
    "        tipo = r['Tipo']\n",
    "        if tipo in agg:\n",
    "            txs.loc[i, 'in'] = r['deposito']\n",
    "            txs.loc[i, 'in_iso'] = r['valuta']\n",
    "        elif tipo in sub:\n",
    "            txs.loc[i, 'out'] =  r['deposito']\n",
    "            txs.loc[i, 'out_iso'] = r['valuta']\n",
    "        elif tipo in comm:\n",
    "            txs.loc[i, 'fee'] = r['deposito']\n",
    "            txs.loc[i, 'fee_iso'] = r['valuta']\n",
    "\n",
    "        if (tipo == 'deposito' or tipo == 'prelievo'):\n",
    "            txs.loc[i, 'type'] = 'ext'\n",
    "            txs.loc[i, 'info'] = r['bt_tx_address']\n",
    "        elif (tipo == 'Acquisto valuta' or tipo == 'Vendita valuta'):\n",
    "            txs.loc[i, 'type'] = 'trade'\n",
    "        else:\n",
    "            txs.loc[i, 'type'] = 'other'\n",
    "            txs.loc[i, 'info'] = r['Tipo'] \n",
    "        \n",
    "    txs.sort_values(by='timestamp', inplace=True)\n",
    "\n",
    "\n",
    "\n",
    "    return arrange(txs)\n",
    "\n",
    "\n",
    "txs = all()"
   ]
  },
  {
   "cell_type": "markdown",
   "metadata": {},
   "source": [
    "Compattiamo le transazioni. Negli excel di `therocktrading` le quantità di valuta ceduta e acquistata in un trade sono registrate separatamente. Selezioniamo le transazioni che distano meno di un secondo e assegniamo loro lo stesso timestamp."
   ]
  },
  {
   "cell_type": "code",
   "execution_count": null,
   "metadata": {},
   "outputs": [],
   "source": [
    "def compact(df):\n",
    "    txs = df.copy()\n",
    "    t0 = 0\n",
    "    for i, r in txs.iterrows():\n",
    "        t1 = r['timestamp']\n",
    "        if (t1-t0)<=1000:\n",
    "            txs.loc[i, 'timestamp']=t0\n",
    "            t1 = t0\n",
    "        t0 = t1\n",
    "    #verifica\n",
    "    t0 = 0\n",
    "    for i, r in txs.iterrows():\n",
    "        t1 = r['timestamp']\n",
    "        if (t1-t0)==1000:\n",
    "            raise Exception('???', t0, t1)\n",
    "        t0 = t1\n",
    "\n",
    "    return txs\n",
    "\n",
    "c = compact(txs.copy())"
   ]
  },
  {
   "cell_type": "markdown",
   "metadata": {},
   "source": [
    "raggruppiamo le transazioni con uguale timestamp:"
   ]
  },
  {
   "cell_type": "code",
   "execution_count": null,
   "metadata": {},
   "outputs": [],
   "source": [
    "grouped = c[c['type']=='trade'].groupby('timestamp')"
   ]
  },
  {
   "cell_type": "code",
   "execution_count": null,
   "metadata": {},
   "outputs": [],
   "source": [
    "df = pd.DataFrame(columns=columns).set_index('id')\n",
    "for t, group in grouped:\n",
    "    #print('#########################@@@ group @@@', t, len(group))\n",
    "    if len(group)>0:\n",
    "        subgroup_in = group.groupby('in_iso') \n",
    "        subgroup_out  = group.groupby('out_iso')\n",
    "        lenin = len(subgroup_in)\n",
    "        lenout = len(subgroup_out)\n",
    "        assert lenin == lenout\n",
    "        if lenin == 0 or lenin > 2:\n",
    "            raise Exception('esagerato', lenin)\n",
    "        else:\n",
    "            subin = subgroup_in.groups\n",
    "            subout = subgroup_out.groups\n",
    "            # print(subin, set(subin) )\n",
    "            # print(subout, set(subout))\n",
    "\n",
    "            if lenin == 2:\n",
    "                assert set(subin) == set(subout)\n",
    "\n",
    "            aggr_in = []\n",
    "            for iso in subin:\n",
    "                aggr_in.append({\n",
    "                    \"index\":list(subin[iso]),\n",
    "                    \"in_iso\":iso,\n",
    "                    \"in\":subgroup_in.get_group(iso)['in'].sum()\n",
    "                })\n",
    "            #print('aggr_in', aggr_in)  \n",
    "\n",
    "            aggr_out = []\n",
    "            for iso in subout:\n",
    "                aggr_out.append({\n",
    "                    \"index\":list(subout[iso]),\n",
    "                    \"out_iso\":iso,\n",
    "                    \"out\":subgroup_out.get_group(iso)['out'].sum()\n",
    "                })\n",
    "            #print('aggr_out', aggr_out)\n",
    "\n",
    "            def join(i, j):\n",
    "                df.loc['_'.join(map(str,aggr_in[i]['index']+aggr_out[j]['index']))] = {\n",
    "                    'timestamp':t,\n",
    "                    'type':'trade',\n",
    "                    'info':'aggregated',\n",
    "                    'in_iso': aggr_in[i]['in_iso'],\n",
    "                    'in': aggr_in[i]['in'],\n",
    "                    'out_iso': aggr_out[j]['out_iso'],\n",
    "                    'out': aggr_out[j]['out']\n",
    "                }\n",
    "\n",
    "            if len(aggr_in) == 1:\n",
    "                join(0,0)\n",
    "            elif len(aggr_in) == 2:\n",
    "                if aggr_in[0]['in_iso'] == aggr_out[0]['out_iso']:\n",
    "                    join(0,1)\n",
    "                    join(1,0)\n",
    "                else:\n",
    "                    join(0,0)\n",
    "                    join(1,1)\n",
    "            "
   ]
  },
  {
   "cell_type": "code",
   "execution_count": null,
   "metadata": {},
   "outputs": [],
   "source": [
    "for i, r in txs.iterrows():\n",
    "    if r['type'] != 'trade':\n",
    "        df.loc[i] = r"
   ]
  },
  {
   "cell_type": "code",
   "execution_count": null,
   "metadata": {},
   "outputs": [],
   "source": [
    "df.sort_values(by='timestamp', inplace=True)\n",
    "df.reset_index(inplace=True)\n",
    "df = arrange(df)"
   ]
  },
  {
   "cell_type": "code",
   "execution_count": null,
   "metadata": {},
   "outputs": [],
   "source": [
    "balances = makeBalances(df)"
   ]
  },
  {
   "cell_type": "code",
   "execution_count": null,
   "metadata": {},
   "outputs": [],
   "source": [
    "m = maxi(df, balances, True)\n",
    "db = Database('db.db')\n",
    "name = 'therocktrading'\n",
    "db.insert_balances(name, balances)\n",
    "db.insert_txs(name, df)"
   ]
  }
 ],
 "metadata": {
  "kernelspec": {
   "display_name": "Python 3",
   "language": "python",
   "name": "python3"
  },
  "language_info": {
   "codemirror_mode": {
    "name": "ipython",
    "version": 3
   },
   "file_extension": ".py",
   "mimetype": "text/x-python",
   "name": "python",
   "nbconvert_exporter": "python",
   "pygments_lexer": "ipython3",
   "version": "3.10.12"
  }
 },
 "nbformat": 4,
 "nbformat_minor": 2
}
