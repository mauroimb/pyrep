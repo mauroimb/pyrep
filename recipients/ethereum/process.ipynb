{
 "cells": [
  {
   "cell_type": "code",
   "execution_count": null,
   "metadata": {},
   "outputs": [],
   "source": [
    "import os\n",
    "import sys\n",
    "sys.path.append('../..')\n",
    "\n",
    "import numpy as np\n",
    "import pandas as pd\n",
    "\n",
    "\n",
    "from src.tools import *\n",
    "from src.database import Database \n",
    "import lib as lib \n"
   ]
  },
  {
   "cell_type": "markdown",
   "metadata": {},
   "source": [
    "La lista delle transazioni è presa da `etherscan`.\n",
    "\n",
    "Scaricare `transactions`, `internal transactions` e `token transfers`: transazioni più complesse non sono considerate."
   ]
  },
  {
   "cell_type": "code",
   "execution_count": null,
   "metadata": {},
   "outputs": [],
   "source": [
    "wallets = lib.wallet_list()"
   ]
  },
  {
   "cell_type": "code",
   "execution_count": null,
   "metadata": {},
   "outputs": [],
   "source": [
    "def process(name):\n",
    "    current = os.getcwd()\n",
    "    dfs = lib.get_dfs(name)\n",
    "    txs = lib.transactions(dfs)\n",
    "    balances = makeBalances(txs)\n",
    "    m = maxi(txs, balances, current+'/output/'+name+'.xlsx')\n",
    "\n",
    "    db = Database('db.db')\n",
    "    name = 'ethereum-'+name\n",
    "    db.insert_txs(name, txs)\n",
    "    db.insert_balances(name, balances)\n",
    "    db.close()\n",
    "    return [txs,m]\n"
   ]
  },
  {
   "cell_type": "code",
   "execution_count": null,
   "metadata": {},
   "outputs": [],
   "source": [
    "eth = {}\n",
    "for name in wallets:\n",
    "    if not name == 'INFO.txt':\n",
    "        print('################################', name)\n",
    "        tmp = process(name)\n",
    "        eth[name] = {\n",
    "            \"txs\": tmp[0],\n",
    "            \"maxi\": tmp[1]\n",
    "        }\n",
    "    "
   ]
  }
 ],
 "metadata": {
  "kernelspec": {
   "display_name": "Python 3",
   "language": "python",
   "name": "python3"
  },
  "language_info": {
   "codemirror_mode": {
    "name": "ipython",
    "version": 3
   },
   "file_extension": ".py",
   "mimetype": "text/x-python",
   "name": "python",
   "nbconvert_exporter": "python",
   "pygments_lexer": "ipython3",
   "version": "3.10.12"
  },
  "orig_nbformat": 4
 },
 "nbformat": 4,
 "nbformat_minor": 2
}
