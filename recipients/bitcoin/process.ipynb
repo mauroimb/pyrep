{
 "cells": [
  {
   "cell_type": "code",
   "execution_count": null,
   "metadata": {},
   "outputs": [],
   "source": [
    "import os\n",
    "import sys\n",
    "sys.path.append('../..')\n",
    "\n",
    "\n",
    "name = 'bitcoin'\n",
    "    \n",
    "from src.tools import *\n",
    "from src.database import Database\n",
    "\n",
    "import lib\n",
    "\n"
   ]
  },
  {
   "cell_type": "markdown",
   "metadata": {},
   "source": [
    "La lista delle transazioni del wallet bitcoin è nel formato esportato dal portafoglio `electrum`.\n",
    "Se ne possono inserire più di una nella cartella *electrum_history*"
   ]
  },
  {
   "cell_type": "code",
   "execution_count": null,
   "metadata": {},
   "outputs": [],
   "source": [
    "folder = './electrum_history'\n",
    "csvs = os.listdir(folder)\n",
    "csvs"
   ]
  },
  {
   "cell_type": "code",
   "execution_count": null,
   "metadata": {},
   "outputs": [],
   "source": [
    "def process(csv):    \n",
    "    path = folder+'/'+csv\n",
    "    wallet = csv[:-4]\n",
    "    output = './output/'+wallet+'.xlsx'\n",
    "    txs = lib.transactions(path)\n",
    "    balances = makeBalances(txs)\n",
    "    m = maxi(txs, balances, output)\n",
    "    db = Database('db.db')\n",
    "    name = 'electrum-'+wallet\n",
    "    db.insert_txs(wallet, txs)\n",
    "    db.insert_balances(wallet, balances)\n",
    "    db.close()\n",
    "    return [txs,m]\n",
    "    "
   ]
  },
  {
   "cell_type": "code",
   "execution_count": null,
   "metadata": {},
   "outputs": [],
   "source": [
    "electrum = {}\n",
    "for csv in csvs:\n",
    "    name = csv[:-4]\n",
    "    tmp = process(csv)\n",
    "    electrum[name] = {\n",
    "        \"txs\": tmp[0],\n",
    "        \"maxi\": tmp[1]\n",
    "    }"
   ]
  },
  {
   "cell_type": "code",
   "execution_count": null,
   "metadata": {},
   "outputs": [],
   "source": []
  }
 ],
 "metadata": {
  "kernelspec": {
   "display_name": "Python 3",
   "language": "python",
   "name": "python3"
  },
  "language_info": {
   "codemirror_mode": {
    "name": "ipython",
    "version": 3
   },
   "file_extension": ".py",
   "mimetype": "text/x-python",
   "name": "python",
   "nbconvert_exporter": "python",
   "pygments_lexer": "ipython3",
   "version": "3.10.12"
  }
 },
 "nbformat": 4,
 "nbformat_minor": 2
}
