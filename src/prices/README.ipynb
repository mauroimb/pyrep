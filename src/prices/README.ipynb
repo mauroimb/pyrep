{
 "cells": [
  {
   "cell_type": "code",
   "execution_count": null,
   "metadata": {},
   "outputs": [],
   "source": [
    "import pandas as pd\n",
    "\n",
    "\n",
    "import sys\n",
    "sys.path.append('..')\n",
    "sys.path.append('../..')\n",
    "\n",
    "from tools import * \n",
    "from database import *\n",
    "from accountant import *\n",
    "\n",
    "import gecko\n",
    "import fixer\n",
    "from db_prices import Db\n",
    "from prices import Price\n",
    "\n",
    "price = Price()\n"
   ]
  },
  {
   "cell_type": "markdown",
   "metadata": {},
   "source": [
    "prima di tutto bisogna creare un database per conservare i prezzi, vedi `/setup/setup.ipynb`"
   ]
  },
  {
   "cell_type": "markdown",
   "metadata": {},
   "source": [
    "### gecko.py\n",
    "\n",
    "i prezzi delle criptoattività sono presi dalle api pubbliche di coingecko.com"
   ]
  },
  {
   "cell_type": "code",
   "execution_count": null,
   "metadata": {},
   "outputs": [],
   "source": [
    "#elenco degli assets disponibili, conservato in /config/response e rielaborato in gecko.json per convenienza\n",
    "gecko.coins()"
   ]
  },
  {
   "cell_type": "code",
   "execution_count": null,
   "metadata": {},
   "outputs": [],
   "source": [
    "gecko.price('BTC', '2016-01-01')"
   ]
  },
  {
   "cell_type": "markdown",
   "metadata": {},
   "source": [
    "### Fixer\n",
    "Il prezzo del cambio \"EUR-USD\" è preso dalle api private di fixer.com. È necessario un account gratuito per usufruirne: creare l'apikey e inserirla nel file fixer.py\n"
   ]
  },
  {
   "cell_type": "code",
   "execution_count": null,
   "metadata": {},
   "outputs": [],
   "source": [
    "fixer.eur('2017-01-01')"
   ]
  },
  {
   "cell_type": "markdown",
   "metadata": {},
   "source": [
    "## Price\n",
    "\n",
    "price controlla prima se il prezzo è già in database, ed in caso contrario lo prende tramite fixer o gecko, lo inserisce e lo restituisce in output.\n",
    "\n",
    "È inserito un piccolo ritardo (5ms) per non oltrepassare i rate-limits. Per cambiarlo editare il file prices.py"
   ]
  },
  {
   "cell_type": "code",
   "execution_count": null,
   "metadata": {},
   "outputs": [],
   "source": [
    "price.price('USD', '2018-01-03')"
   ]
  }
 ],
 "metadata": {
  "kernelspec": {
   "display_name": "Python 3",
   "language": "python",
   "name": "python3"
  },
  "language_info": {
   "codemirror_mode": {
    "name": "ipython",
    "version": 3
   },
   "file_extension": ".py",
   "mimetype": "text/x-python",
   "name": "python",
   "nbconvert_exporter": "python",
   "pygments_lexer": "ipython3",
   "version": "3.10.12"
  }
 },
 "nbformat": 4,
 "nbformat_minor": 2
}
