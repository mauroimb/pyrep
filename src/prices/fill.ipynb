{
 "cells": [
  {
   "cell_type": "code",
   "execution_count": null,
   "metadata": {},
   "outputs": [],
   "source": [
    "import pandas as pd\n",
    "\n",
    "\n",
    "import sys\n",
    "sys.path.append('..')\n",
    "sys.path.append('../..')\n",
    "import time\n",
    "\n",
    "from tools import * \n",
    "\n",
    "import gecko\n",
    "import fixer\n",
    "from db_prices import Db"
   ]
  },
  {
   "cell_type": "markdown",
   "metadata": {},
   "source": [
    "Usare questo notebook per riempire il database dei prezzi delle valute di interesse per le vostre transazioni.\n",
    "(rivedere, correggere ed adattare al proprio caso)"
   ]
  },
  {
   "cell_type": "code",
   "execution_count": null,
   "metadata": {},
   "outputs": [],
   "source": [
    "db = Db('prices.db')"
   ]
  },
  {
   "cell_type": "code",
   "execution_count": null,
   "metadata": {},
   "outputs": [],
   "source": [
    "def first_day(s):\n",
    "        f = (s.isna()).idxmax()\n",
    "        return formatTime(f)[:10]\n",
    "def time_range(df, COIN):   \n",
    "    f = first_day(df[COIN])\n",
    "    return pd.date_range(start=f, end='2023-11-04', freq='D').strftime('%Y-%m-%d')  # 'D' stands for day"
   ]
  },
  {
   "cell_type": "code",
   "execution_count": null,
   "metadata": {},
   "outputs": [],
   "source": [
    "delay1 = 20\n",
    "delay2 = 30\n",
    "\n",
    "def retrieve(COIN):\n",
    "    for t in time_range(db.dataframe, COIN):\n",
    "        c = COIN\n",
    "        p = gecko.price(c,t)\n",
    "        db.set(t, c, p)\n",
    "        print(t,c,p)  \n",
    "        time.sleep(delay1)\n",
    "\n",
    "   \n",
    "def loop(COIN):\n",
    "    while len(time_range(db.dataframe, COIN ))>0:\n",
    "        try:\n",
    "            retrieve('BTC')\n",
    "        except Exception as e:\n",
    "            print('stopped')\n",
    "            time.sleep(delay2)\n"
   ]
  },
  {
   "cell_type": "code",
   "execution_count": null,
   "metadata": {},
   "outputs": [],
   "source": [
    "loop('BTC')"
   ]
  }
 ],
 "metadata": {
  "kernelspec": {
   "display_name": "Python 3",
   "language": "python",
   "name": "python3"
  },
  "language_info": {
   "codemirror_mode": {
    "name": "ipython",
    "version": 3
   },
   "file_extension": ".py",
   "mimetype": "text/x-python",
   "name": "python",
   "nbconvert_exporter": "python",
   "pygments_lexer": "ipython3",
   "version": "3.10.12"
  }
 },
 "nbformat": 4,
 "nbformat_minor": 2
}
